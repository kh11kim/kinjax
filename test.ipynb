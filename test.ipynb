{
 "cells": [
  {
   "cell_type": "code",
   "execution_count": 1,
   "metadata": {},
   "outputs": [
    {
     "name": "stderr",
     "output_type": "stream",
     "text": [
      "pybullet build time: May 20 2022 19:44:17\n"
     ]
    }
   ],
   "source": [
    "import numpy as np\n",
    "import sympy as sym\n",
    "from pybullet_suite import *\n",
    "from kinjax import *\n",
    "from jax import jit, vmap\n",
    "import jax.numpy as jnp"
   ]
  },
  {
   "cell_type": "code",
   "execution_count": 4,
   "metadata": {},
   "outputs": [],
   "source": [
    "urdf = \"example/panda.urdf\"\n",
    "ee_link_name = \"panda_grasptarget\"\n",
    "dof = 7"
   ]
  },
  {
   "cell_type": "code",
   "execution_count": 5,
   "metadata": {},
   "outputs": [
    {
     "name": "stdout",
     "output_type": "stream",
     "text": [
      "Robot name: panda\n"
     ]
    }
   ],
   "source": [
    "link_dict, joint_dict = get_link_joint_dict(urdf)\n",
    "fk = get_FK_fn(link_dict, joint_dict, dof, ee_link_name)\n",
    "jac = get_jacobian_fn(link_dict, joint_dict, dof, ee_link_name)"
   ]
  },
  {
   "cell_type": "code",
   "execution_count": 7,
   "metadata": {},
   "outputs": [],
   "source": [
    "q = jnp.array(\n",
    "    [ 0.84216301,  1.76977166,  2.37596681, -2.58840392,  0.57793467,\n",
    "        0.23357438,  1.07233475]\n",
    ")"
   ]
  },
  {
   "cell_type": "code",
   "execution_count": 8,
   "metadata": {},
   "outputs": [
    {
     "data": {
      "text/plain": [
       "Array([[ 0.0142239 , -0.54433465,  0.83874774,  0.06423434],\n",
       "       [-0.9869014 ,  0.12716898,  0.09926714,  0.15967509],\n",
       "       [-0.16069724, -0.82917297, -0.5353956 ,  0.47063485],\n",
       "       [ 0.        ,  0.        ,  0.        ,  1.        ]],      dtype=float32)"
      ]
     },
     "execution_count": 8,
     "metadata": {},
     "output_type": "execute_result"
    }
   ],
   "source": [
    "fk(q)"
   ]
  },
  {
   "cell_type": "code",
   "execution_count": 9,
   "metadata": {},
   "outputs": [
    {
     "data": {
      "text/plain": [
       "Array([[-1.59675092e-01,  9.16442424e-02,  1.32223457e-01,\n",
       "        -2.67706960e-02,  6.97710812e-02, -3.82579491e-02,\n",
       "        -9.31322575e-10],\n",
       "       [ 6.42343387e-02,  1.02687314e-01, -1.02532953e-01,\n",
       "         1.62021294e-01,  2.11902186e-02, -2.17034623e-01,\n",
       "         7.45058060e-09],\n",
       "       [ 0.00000000e+00, -1.61901683e-01,  5.72433211e-02,\n",
       "         1.14910424e-01,  1.13231808e-01,  6.41896427e-02,\n",
       "         0.00000000e+00],\n",
       "       [ 0.00000000e+00, -7.46085167e-01,  6.52713060e-01,\n",
       "        -6.29097104e-01, -7.77157068e-01, -5.18054128e-01,\n",
       "         8.38747680e-01],\n",
       "       [ 0.00000000e+00,  6.65850580e-01,  7.31364608e-01,\n",
       "         3.77845734e-01, -3.23987275e-01, -1.57338500e-01,\n",
       "         9.92670804e-02],\n",
       "       [ 1.00000000e+00,  0.00000000e+00, -1.97665021e-01,\n",
       "        -6.79315448e-01,  5.39499044e-01, -8.40752363e-01,\n",
       "        -5.35395682e-01]], dtype=float32)"
      ]
     },
     "execution_count": 9,
     "metadata": {},
     "output_type": "execute_result"
    }
   ],
   "source": [
    "jac(q)"
   ]
  }
 ],
 "metadata": {
  "interpreter": {
   "hash": "cd534b4b454fa7084d8571b95fc6b517faf626e77dca968738a58be695747536"
  },
  "kernelspec": {
   "display_name": "Python 3.8.0 ('opt_env')",
   "language": "python",
   "name": "python3"
  },
  "language_info": {
   "codemirror_mode": {
    "name": "ipython",
    "version": 3
   },
   "file_extension": ".py",
   "mimetype": "text/x-python",
   "name": "python",
   "nbconvert_exporter": "python",
   "pygments_lexer": "ipython3",
   "version": "3.8.0"
  },
  "orig_nbformat": 4
 },
 "nbformat": 4,
 "nbformat_minor": 2
}
